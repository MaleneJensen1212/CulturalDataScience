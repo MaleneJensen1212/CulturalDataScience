{
 "cells": [
  {
   "cell_type": "markdown",
   "id": "384aecc9-d803-4adf-9b92-f23fd9f0b7d1",
   "metadata": {},
   "source": [
    "Now I have added a new notebook to the folder"
   ]
  },
  {
   "cell_type": "code",
   "execution_count": null,
   "id": "79c85ef7-de3d-4ba1-a13e-4f9d8e037e3a",
   "metadata": {},
   "outputs": [],
   "source": []
  }
 ],
 "metadata": {
  "kernelspec": {
   "display_name": "Python 3 ",
   "language": "python",
   "name": "python3"
  },
  "language_info": {
   "codemirror_mode": {
    "name": "ipython",
    "version": 3
   },
   "file_extension": ".py",
   "mimetype": "text/x-python",
   "name": "python",
   "nbconvert_exporter": "python",
   "pygments_lexer": "ipython3",
   "version": "3.10.14"
  }
 },
 "nbformat": 4,
 "nbformat_minor": 5
}
