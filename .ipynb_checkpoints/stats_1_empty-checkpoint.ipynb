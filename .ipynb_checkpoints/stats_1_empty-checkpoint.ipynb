{
 "cells": [
  {
   "cell_type": "markdown",
   "id": "1a846cfe-d705-4f1f-866b-b4b370af384d",
   "metadata": {},
   "source": [
    "# Part 1 - The basics"
   ]
  },
  {
   "cell_type": "markdown",
   "id": "223204e5-f880-46d3-b81f-63e24071759b",
   "metadata": {},
   "source": [
    "R is just a calculator."
   ]
  },
  {
   "cell_type": "code",
   "execution_count": 1,
   "id": "21e221b0-07e2-49e1-b9a9-c3950d59cf3d",
   "metadata": {},
   "outputs": [
    {
     "data": {
      "text/html": [
       "7"
      ],
      "text/latex": [
       "7"
      ],
      "text/markdown": [
       "7"
      ],
      "text/plain": [
       "[1] 7"
      ]
     },
     "metadata": {},
     "output_type": "display_data"
    }
   ],
   "source": [
    "4+3"
   ]
  },
  {
   "cell_type": "code",
   "execution_count": 3,
   "id": "265925a8-24b1-497f-ad40-fb97d803ce77",
   "metadata": {},
   "outputs": [
    {
     "data": {
      "text/html": [
       "1"
      ],
      "text/latex": [
       "1"
      ],
      "text/markdown": [
       "1"
      ],
      "text/plain": [
       "[1] 1"
      ]
     },
     "metadata": {},
     "output_type": "display_data"
    }
   ],
   "source": [
    "4-3"
   ]
  },
  {
   "cell_type": "markdown",
   "id": "5acd0cf3-6792-4e36-8e68-79c022c09f93",
   "metadata": {},
   "source": [
    "There is special syntax for multiplication and division."
   ]
  },
  {
   "cell_type": "code",
   "execution_count": 4,
   "id": "b77555ea-1d89-4527-a565-5c1966606e2d",
   "metadata": {},
   "outputs": [
    {
     "data": {
      "text/html": [
       "12"
      ],
      "text/latex": [
       "12"
      ],
      "text/markdown": [
       "12"
      ],
      "text/plain": [
       "[1] 12"
      ]
     },
     "metadata": {},
     "output_type": "display_data"
    }
   ],
   "source": [
    "4*3"
   ]
  },
  {
   "cell_type": "code",
   "execution_count": 5,
   "id": "ef1d5efe-3dea-40dd-b96c-88ad80fb0a15",
   "metadata": {},
   "outputs": [
    {
     "data": {
      "text/html": [
       "4"
      ],
      "text/latex": [
       "4"
      ],
      "text/markdown": [
       "4"
      ],
      "text/plain": [
       "[1] 4"
      ]
     },
     "metadata": {},
     "output_type": "display_data"
    }
   ],
   "source": [
    "12/3"
   ]
  },
  {
   "cell_type": "markdown",
   "id": "74e06cd4-c9cc-46cd-91eb-154947ae895a",
   "metadata": {},
   "source": [
    "We can also assign numbers to variables and to operations."
   ]
  },
  {
   "cell_type": "code",
   "execution_count": 7,
   "id": "ffbb4db1-36f8-4371-b860-b9e1136b93b7",
   "metadata": {},
   "outputs": [
    {
     "data": {
      "text/html": [
       "7"
      ],
      "text/latex": [
       "7"
      ],
      "text/markdown": [
       "7"
      ],
      "text/plain": [
       "[1] 7"
      ]
     },
     "metadata": {},
     "output_type": "display_data"
    },
    {
     "data": {
      "text/html": [
       "1"
      ],
      "text/latex": [
       "1"
      ],
      "text/markdown": [
       "1"
      ],
      "text/plain": [
       "[1] 1"
      ]
     },
     "metadata": {},
     "output_type": "display_data"
    }
   ],
   "source": [
    "A <- 4\n",
    "B <- 3\n",
    "A + B\n",
    "A - B"
   ]
  },
  {
   "cell_type": "markdown",
   "id": "e849af61-59e4-4c22-8359-93fbf214c73b",
   "metadata": {},
   "source": [
    "A function is just something with an input and an output."
   ]
  },
  {
   "cell_type": "code",
   "execution_count": 8,
   "id": "61462036-ed36-4270-a768-fd130530865e",
   "metadata": {},
   "outputs": [
    {
     "data": {
      "text/html": [
       "11"
      ],
      "text/latex": [
       "11"
      ],
      "text/markdown": [
       "11"
      ],
      "text/plain": [
       "[1] 11"
      ]
     },
     "metadata": {},
     "output_type": "display_data"
    }
   ],
   "source": [
    "sum(4, 3, 4)"
   ]
  },
  {
   "cell_type": "code",
   "execution_count": 9,
   "id": "c5260e87-8683-4e6b-91ab-383c9637aa76",
   "metadata": {},
   "outputs": [
    {
     "data": {
      "text/html": [
       "2"
      ],
      "text/latex": [
       "2"
      ],
      "text/markdown": [
       "2"
      ],
      "text/plain": [
       "[1] 2"
      ]
     },
     "metadata": {},
     "output_type": "display_data"
    }
   ],
   "source": [
    "sqrt(4)"
   ]
  },
  {
   "cell_type": "code",
   "execution_count": 11,
   "id": "11c137cb-3fb2-4a4d-8b27-6b59f52739a9",
   "metadata": {},
   "outputs": [
    {
     "data": {
      "text/html": [
       "7"
      ],
      "text/latex": [
       "7"
      ],
      "text/markdown": [
       "7"
      ],
      "text/plain": [
       "[1] 7"
      ]
     },
     "metadata": {},
     "output_type": "display_data"
    }
   ],
   "source": [
    "sum(A, B)"
   ]
  },
  {
   "cell_type": "markdown",
   "id": "3e91f7cc-255b-48f4-ab57-eb7391ee4abb",
   "metadata": {},
   "source": [
    "# Part 2 - A bit more advanced"
   ]
  },
  {
   "cell_type": "markdown",
   "id": "248b1114-2884-4f05-bffc-56e160aea5cc",
   "metadata": {},
   "source": [
    "The nice thing about R is that unlike on a calculator, you can keep track of your operations. This is important for reproducing your work, and doing more complicated stuff. Let's look at some of this more complicated stuff!"
   ]
  },
  {
   "cell_type": "markdown",
   "id": "ac06ad57-0aeb-4026-94da-8c7c106cf4f5",
   "metadata": {},
   "source": [
    "We can assign lists of numbers to variables. This is called an array.\n",
    "'c' is just a function. It means 'concatenate'."
   ]
  },
  {
   "cell_type": "code",
   "execution_count": 37,
   "id": "4e6a29ac-95f4-4fb9-990b-8a62069bcd76",
   "metadata": {},
   "outputs": [],
   "source": [
    "a <- c(3, 4, 5, 6, 8)\n",
    "b <- c(1, 3, 5, 7, 7)"
   ]
  },
  {
   "cell_type": "markdown",
   "id": "c24e1454-776f-4daf-a99e-25200904b9ee",
   "metadata": {},
   "source": [
    "We can do operations on lists too, the same as for simpler variables.\n",
    "We can make a new variable in the process."
   ]
  },
  {
   "cell_type": "code",
   "execution_count": 38,
   "id": "aba7981c-75e6-4f6d-a5cf-9820890daa6b",
   "metadata": {},
   "outputs": [],
   "source": [
    "c <- a + b"
   ]
  },
  {
   "cell_type": "markdown",
   "id": "9bc9f880-9552-48c3-9e09-18c606f30a30",
   "metadata": {},
   "source": [
    "To see the output, you need to call the variable directly."
   ]
  },
  {
   "cell_type": "code",
   "execution_count": 39,
   "id": "2860fb03-b59f-414b-87a2-7f181486fee2",
   "metadata": {},
   "outputs": [
    {
     "data": {
      "text/html": [
       "<style>\n",
       ".list-inline {list-style: none; margin:0; padding: 0}\n",
       ".list-inline>li {display: inline-block}\n",
       ".list-inline>li:not(:last-child)::after {content: \"\\00b7\"; padding: 0 .5ex}\n",
       "</style>\n",
       "<ol class=list-inline><li>4</li><li>7</li><li>10</li><li>13</li><li>15</li></ol>\n"
      ],
      "text/latex": [
       "\\begin{enumerate*}\n",
       "\\item 4\n",
       "\\item 7\n",
       "\\item 10\n",
       "\\item 13\n",
       "\\item 15\n",
       "\\end{enumerate*}\n"
      ],
      "text/markdown": [
       "1. 4\n",
       "2. 7\n",
       "3. 10\n",
       "4. 13\n",
       "5. 15\n",
       "\n",
       "\n"
      ],
      "text/plain": [
       "[1]  4  7 10 13 15"
      ]
     },
     "metadata": {},
     "output_type": "display_data"
    }
   ],
   "source": [
    "c"
   ]
  },
  {
   "cell_type": "markdown",
   "id": "acfd0860-c27e-4e04-b5ba-ab599b7f9986",
   "metadata": {},
   "source": [
    "We can use other functions to make lists. We can make sequences..."
   ]
  },
  {
   "cell_type": "code",
   "execution_count": 40,
   "id": "df9fb366-73e2-41f9-95ae-dbb3c2cc57c3",
   "metadata": {},
   "outputs": [
    {
     "data": {
      "text/html": [
       "<style>\n",
       ".list-inline {list-style: none; margin:0; padding: 0}\n",
       ".list-inline>li {display: inline-block}\n",
       ".list-inline>li:not(:last-child)::after {content: \"\\00b7\"; padding: 0 .5ex}\n",
       "</style>\n",
       "<ol class=list-inline><li>1</li><li>3</li><li>5</li><li>7</li><li>9</li></ol>\n"
      ],
      "text/latex": [
       "\\begin{enumerate*}\n",
       "\\item 1\n",
       "\\item 3\n",
       "\\item 5\n",
       "\\item 7\n",
       "\\item 9\n",
       "\\end{enumerate*}\n"
      ],
      "text/markdown": [
       "1. 1\n",
       "2. 3\n",
       "3. 5\n",
       "4. 7\n",
       "5. 9\n",
       "\n",
       "\n"
      ],
      "text/plain": [
       "[1] 1 3 5 7 9"
      ]
     },
     "metadata": {},
     "output_type": "display_data"
    }
   ],
   "source": [
    "a <- seq(1, 10, 2) #lowest number first, highest number second, intervals third\n",
    "a"
   ]
  },
  {
   "cell_type": "markdown",
   "id": "2fb47e4b-4003-47a5-b65f-5eb3ce8450a6",
   "metadata": {},
   "source": [
    "...or repeat numbers"
   ]
  },
  {
   "cell_type": "code",
   "execution_count": 41,
   "id": "8a60419c-b130-421d-b220-41465cf63a47",
   "metadata": {},
   "outputs": [
    {
     "data": {
      "text/html": [
       "<style>\n",
       ".list-inline {list-style: none; margin:0; padding: 0}\n",
       ".list-inline>li {display: inline-block}\n",
       ".list-inline>li:not(:last-child)::after {content: \"\\00b7\"; padding: 0 .5ex}\n",
       "</style>\n",
       "<ol class=list-inline><li>2</li><li>2</li><li>2</li><li>2</li><li>2</li></ol>\n"
      ],
      "text/latex": [
       "\\begin{enumerate*}\n",
       "\\item 2\n",
       "\\item 2\n",
       "\\item 2\n",
       "\\item 2\n",
       "\\item 2\n",
       "\\end{enumerate*}\n"
      ],
      "text/markdown": [
       "1. 2\n",
       "2. 2\n",
       "3. 2\n",
       "4. 2\n",
       "5. 2\n",
       "\n",
       "\n"
      ],
      "text/plain": [
       "[1] 2 2 2 2 2"
      ]
     },
     "metadata": {},
     "output_type": "display_data"
    }
   ],
   "source": [
    "b <- rep(2, 5) #repeat number 2 5 times\n",
    "b"
   ]
  },
  {
   "cell_type": "markdown",
   "id": "ceb4a06c-2759-42d7-b834-c66398ac717c",
   "metadata": {},
   "source": [
    "We can also generate random lists."
   ]
  },
  {
   "cell_type": "code",
   "execution_count": 18,
   "id": "a0b7baea-94b1-4e6e-8285-fb166af80ca8",
   "metadata": {},
   "outputs": [],
   "source": [
    "wieght1 <- runif(30, 60, 120) #uniform distribution: 30 numbers, from 60-120. Numbers will be equally distributed \n",
    "weight2 <- runif(30, 80, 140)"
   ]
  },
  {
   "cell_type": "markdown",
   "id": "a9b41cdd-8549-426c-a63a-c48eaef7bebb",
   "metadata": {},
   "source": [
    "A uniform distribution is a probability distribution in which all outcomes are equally likely, resulting in a constant probability density across a specified interval."
   ]
  },
  {
   "cell_type": "markdown",
   "id": "79545d3b-fcaa-4cef-8c6b-ede5ac095ebe",
   "metadata": {},
   "source": [
    "If you are unsure about how a function works, there's a built-in way to get help:"
   ]
  },
  {
   "cell_type": "code",
   "execution_count": 19,
   "id": "f032b628-f242-4e9a-a621-b48c232cf34a",
   "metadata": {},
   "outputs": [
    {
     "data": {
      "text/html": [
       "\n",
       "<table style=\"width: 100%;\"><tr><td>Uniform {stats}</td><td style=\"text-align: right;\">R Documentation</td></tr></table>\n",
       "\n",
       "<h2>The Uniform Distribution</h2>\n",
       "\n",
       "<h3>Description</h3>\n",
       "\n",
       "<p>These functions provide information about the uniform distribution\n",
       "on the interval from <code>min</code> to <code>max</code>.  <code>dunif</code> gives the\n",
       "density, <code>punif</code> gives the distribution function <code>qunif</code>\n",
       "gives the quantile function and <code>runif</code> generates random\n",
       "deviates.\n",
       "</p>\n",
       "\n",
       "\n",
       "<h3>Usage</h3>\n",
       "\n",
       "<pre><code class='language-R'>dunif(x, min = 0, max = 1, log = FALSE)\n",
       "punif(q, min = 0, max = 1, lower.tail = TRUE, log.p = FALSE)\n",
       "qunif(p, min = 0, max = 1, lower.tail = TRUE, log.p = FALSE)\n",
       "runif(n, min = 0, max = 1)\n",
       "</code></pre>\n",
       "\n",
       "\n",
       "<h3>Arguments</h3>\n",
       "\n",
       "<table>\n",
       "<tr><td><code id=\"x\">x</code>, <code id=\"q\">q</code></td>\n",
       "<td>\n",
       "<p>vector of quantiles.</p>\n",
       "</td></tr>\n",
       "<tr><td><code id=\"p\">p</code></td>\n",
       "<td>\n",
       "<p>vector of probabilities.</p>\n",
       "</td></tr>\n",
       "<tr><td><code id=\"n\">n</code></td>\n",
       "<td>\n",
       "<p>number of observations. If <code>length(n) &gt; 1</code>, the length\n",
       "is taken to be the number required.</p>\n",
       "</td></tr>\n",
       "<tr><td><code id=\"min\">min</code>, <code id=\"max\">max</code></td>\n",
       "<td>\n",
       "<p>lower and upper limits of the distribution.  Must be finite.</p>\n",
       "</td></tr>\n",
       "<tr><td><code id=\"log\">log</code>, <code id=\"log.p\">log.p</code></td>\n",
       "<td>\n",
       "<p>logical; if TRUE, probabilities p are given as log(p).</p>\n",
       "</td></tr>\n",
       "<tr><td><code id=\"lower.tail\">lower.tail</code></td>\n",
       "<td>\n",
       "<p>logical; if TRUE (default), probabilities are\n",
       "<code class=\"reqn\">P[X \\le x]</code>, otherwise, <code class=\"reqn\">P[X &gt; x]</code>.</p>\n",
       "</td></tr>\n",
       "</table>\n",
       "\n",
       "\n",
       "<h3>Details</h3>\n",
       "\n",
       "<p>If <code>min</code> or <code>max</code> are not specified they assume the default\n",
       "values of <code>0</code> and <code>1</code> respectively.\n",
       "</p>\n",
       "<p>The uniform distribution has density\n",
       "</p>\n",
       "<p style=\"text-align: center;\"><code class=\"reqn\">f(x) = \\frac{1}{max-min}</code>\n",
       "</p>\n",
       "\n",
       "<p>for <code class=\"reqn\">min \\le x \\le max</code>.\n",
       "</p>\n",
       "<p>For the case of <code class=\"reqn\">u := min == max</code>, the limit case of\n",
       "<code class=\"reqn\">X \\equiv u</code> is assumed, although there is no density in\n",
       "that case and <code>dunif</code> will return <code>NaN</code> (the error condition).\n",
       "</p>\n",
       "<p><code>runif</code> will not generate either of the extreme values unless\n",
       "<code>max = min</code> or <code>max-min</code> is small compared to <code>min</code>,\n",
       "and in particular not for the default arguments.\n",
       "</p>\n",
       "\n",
       "\n",
       "<h3>Value</h3>\n",
       "\n",
       "<p><code>dunif</code> gives the density,\n",
       "<code>punif</code> gives the distribution function,\n",
       "<code>qunif</code> gives the quantile function, and\n",
       "<code>runif</code> generates random deviates.\n",
       "</p>\n",
       "<p>The length of the result is determined by <code>n</code> for\n",
       "<code>runif</code>, and is the maximum of the lengths of the\n",
       "numerical arguments for the other functions.  \n",
       "</p>\n",
       "<p>The numerical arguments other than <code>n</code> are recycled to the\n",
       "length of the result.  Only the first elements of the logical\n",
       "arguments are used.\n",
       "</p>\n",
       "\n",
       "\n",
       "<h3>Note</h3>\n",
       "\n",
       "<p>The characteristics of output from pseudo-random number generators\n",
       "(such as precision and periodicity) vary widely.  See\n",
       "<code>.Random.seed</code> for more information on <span class=\"rlang\"><b>R</b></span>'s random number\n",
       "generation algorithms.\n",
       "</p>\n",
       "\n",
       "\n",
       "<h3>References</h3>\n",
       "\n",
       "<p>Becker, R. A., Chambers, J. M. and Wilks, A. R. (1988)\n",
       "<em>The New S Language</em>.\n",
       "Wadsworth &amp; Brooks/Cole.\n",
       "</p>\n",
       "\n",
       "\n",
       "<h3>See Also</h3>\n",
       "\n",
       "<p><code>RNG</code> about random number generation in <span class=\"rlang\"><b>R</b></span>.\n",
       "</p>\n",
       "<p>Distributions for other standard distributions.\n",
       "</p>\n",
       "\n",
       "\n",
       "<h3>Examples</h3>\n",
       "\n",
       "<pre><code class='language-R'>u &lt;- runif(20)\n",
       "\n",
       "## The following relations always hold :\n",
       "punif(u) == u\n",
       "dunif(u) == 1\n",
       "\n",
       "var(runif(10000))  #- ~ = 1/12 = .08333\n",
       "</code></pre>\n",
       "\n",
       "<hr /><div style=\"text-align: center;\">[Package <em>stats</em> version 4.4.1 ]</div></main>\n",
       "\n",
       "</div>"
      ],
      "text/latex": [
       "\\inputencoding{utf8}\n",
       "\\HeaderA{Uniform}{The Uniform Distribution}{Uniform}\n",
       "\\aliasA{dunif}{Uniform}{dunif}\n",
       "\\aliasA{punif}{Uniform}{punif}\n",
       "\\aliasA{qunif}{Uniform}{qunif}\n",
       "\\aliasA{runif}{Uniform}{runif}\n",
       "\\keyword{distribution}{Uniform}\n",
       "%\n",
       "\\begin{Description}\n",
       "These functions provide information about the uniform distribution\n",
       "on the interval from \\code{min} to \\code{max}.  \\code{dunif} gives the\n",
       "density, \\code{punif} gives the distribution function \\code{qunif}\n",
       "gives the quantile function and \\code{runif} generates random\n",
       "deviates.\n",
       "\\end{Description}\n",
       "%\n",
       "\\begin{Usage}\n",
       "\\begin{verbatim}\n",
       "dunif(x, min = 0, max = 1, log = FALSE)\n",
       "punif(q, min = 0, max = 1, lower.tail = TRUE, log.p = FALSE)\n",
       "qunif(p, min = 0, max = 1, lower.tail = TRUE, log.p = FALSE)\n",
       "runif(n, min = 0, max = 1)\n",
       "\\end{verbatim}\n",
       "\\end{Usage}\n",
       "%\n",
       "\\begin{Arguments}\n",
       "\\begin{ldescription}\n",
       "\\item[\\code{x}, \\code{q}] vector of quantiles.\n",
       "\\item[\\code{p}] vector of probabilities.\n",
       "\\item[\\code{n}] number of observations. If \\code{length(n) > 1}, the length\n",
       "is taken to be the number required.\n",
       "\\item[\\code{min}, \\code{max}] lower and upper limits of the distribution.  Must be finite.\n",
       "\\item[\\code{log}, \\code{log.p}] logical; if TRUE, probabilities p are given as log(p).\n",
       "\\item[\\code{lower.tail}] logical; if TRUE (default), probabilities are\n",
       "\\eqn{P[X \\le x]}{}, otherwise, \\eqn{P[X > x]}{}.\n",
       "\\end{ldescription}\n",
       "\\end{Arguments}\n",
       "%\n",
       "\\begin{Details}\n",
       "If \\code{min} or \\code{max} are not specified they assume the default\n",
       "values of \\code{0} and \\code{1} respectively.\n",
       "\n",
       "The uniform distribution has density\n",
       "\\deqn{f(x) = \\frac{1}{max-min}}{}\n",
       "for \\eqn{min \\le x \\le max}{}.\n",
       "\n",
       "For the case of \\eqn{u := min == max}{}, the limit case of\n",
       "\\eqn{X \\equiv u}{} is assumed, although there is no density in\n",
       "that case and \\code{dunif} will return \\code{NaN} (the error condition).\n",
       "\n",
       "\\code{runif} will not generate either of the extreme values unless\n",
       "\\code{max = min} or \\code{max-min} is small compared to \\code{min},\n",
       "and in particular not for the default arguments.\n",
       "\\end{Details}\n",
       "%\n",
       "\\begin{Value}\n",
       "\\code{dunif} gives the density,\n",
       "\\code{punif} gives the distribution function,\n",
       "\\code{qunif} gives the quantile function, and\n",
       "\\code{runif} generates random deviates.\n",
       "\n",
       "The length of the result is determined by \\code{n} for\n",
       "\\code{runif}, and is the maximum of the lengths of the\n",
       "numerical arguments for the other functions.  \n",
       "\n",
       "The numerical arguments other than \\code{n} are recycled to the\n",
       "length of the result.  Only the first elements of the logical\n",
       "arguments are used.\n",
       "\\end{Value}\n",
       "%\n",
       "\\begin{Note}\n",
       "The characteristics of output from pseudo-random number generators\n",
       "(such as precision and periodicity) vary widely.  See\n",
       "\\code{\\LinkA{.Random.seed}{.Random.seed}} for more information on \\R{}'s random number\n",
       "generation algorithms.\n",
       "\\end{Note}\n",
       "%\n",
       "\\begin{References}\n",
       "Becker, R. A., Chambers, J. M. and Wilks, A. R. (1988)\n",
       "\\emph{The New S Language}.\n",
       "Wadsworth \\& Brooks/Cole.\n",
       "\\end{References}\n",
       "%\n",
       "\\begin{SeeAlso}\n",
       "\\code{\\LinkA{RNG}{RNG}} about random number generation in \\R{}.\n",
       "\n",
       "\\LinkA{Distributions}{Distributions} for other standard distributions.\n",
       "\\end{SeeAlso}\n",
       "%\n",
       "\\begin{Examples}\n",
       "\\begin{ExampleCode}\n",
       "u <- runif(20)\n",
       "\n",
       "## The following relations always hold :\n",
       "punif(u) == u\n",
       "dunif(u) == 1\n",
       "\n",
       "var(runif(10000))  #- ~ = 1/12 = .08333\n",
       "\\end{ExampleCode}\n",
       "\\end{Examples}"
      ],
      "text/plain": [
       "Uniform                 package:stats                  R Documentation\n",
       "\n",
       "_\bT_\bh_\be _\bU_\bn_\bi_\bf_\bo_\br_\bm _\bD_\bi_\bs_\bt_\br_\bi_\bb_\bu_\bt_\bi_\bo_\bn\n",
       "\n",
       "_\bD_\be_\bs_\bc_\br_\bi_\bp_\bt_\bi_\bo_\bn:\n",
       "\n",
       "     These functions provide information about the uniform distribution\n",
       "     on the interval from ‘min’ to ‘max’.  ‘dunif’ gives the density,\n",
       "     ‘punif’ gives the distribution function ‘qunif’ gives the quantile\n",
       "     function and ‘runif’ generates random deviates.\n",
       "\n",
       "_\bU_\bs_\ba_\bg_\be:\n",
       "\n",
       "     dunif(x, min = 0, max = 1, log = FALSE)\n",
       "     punif(q, min = 0, max = 1, lower.tail = TRUE, log.p = FALSE)\n",
       "     qunif(p, min = 0, max = 1, lower.tail = TRUE, log.p = FALSE)\n",
       "     runif(n, min = 0, max = 1)\n",
       "     \n",
       "_\bA_\br_\bg_\bu_\bm_\be_\bn_\bt_\bs:\n",
       "\n",
       "    x, q: vector of quantiles.\n",
       "\n",
       "       p: vector of probabilities.\n",
       "\n",
       "       n: number of observations. If ‘length(n) > 1’, the length is\n",
       "          taken to be the number required.\n",
       "\n",
       "min, max: lower and upper limits of the distribution.  Must be finite.\n",
       "\n",
       "log, log.p: logical; if TRUE, probabilities p are given as log(p).\n",
       "\n",
       "lower.tail: logical; if TRUE (default), probabilities are P[X <= x],\n",
       "          otherwise, P[X > x].\n",
       "\n",
       "_\bD_\be_\bt_\ba_\bi_\bl_\bs:\n",
       "\n",
       "     If ‘min’ or ‘max’ are not specified they assume the default values\n",
       "     of ‘0’ and ‘1’ respectively.\n",
       "\n",
       "     The uniform distribution has density\n",
       "\n",
       "                             f(x) = 1/(max-min)                         \n",
       "     \n",
       "     for min <= x <= max.\n",
       "\n",
       "     For the case of u := min == max, the limit case of X == u is\n",
       "     assumed, although there is no density in that case and ‘dunif’\n",
       "     will return ‘NaN’ (the error condition).\n",
       "\n",
       "     ‘runif’ will not generate either of the extreme values unless ‘max\n",
       "     = min’ or ‘max-min’ is small compared to ‘min’, and in particular\n",
       "     not for the default arguments.\n",
       "\n",
       "_\bV_\ba_\bl_\bu_\be:\n",
       "\n",
       "     ‘dunif’ gives the density, ‘punif’ gives the distribution\n",
       "     function, ‘qunif’ gives the quantile function, and ‘runif’\n",
       "     generates random deviates.\n",
       "\n",
       "     The length of the result is determined by ‘n’ for ‘runif’, and is\n",
       "     the maximum of the lengths of the numerical arguments for the\n",
       "     other functions.\n",
       "\n",
       "     The numerical arguments other than ‘n’ are recycled to the length\n",
       "     of the result.  Only the first elements of the logical arguments\n",
       "     are used.\n",
       "\n",
       "_\bN_\bo_\bt_\be:\n",
       "\n",
       "     The characteristics of output from pseudo-random number generators\n",
       "     (such as precision and periodicity) vary widely.  See\n",
       "     ‘.Random.seed’ for more information on R's random number\n",
       "     generation algorithms.\n",
       "\n",
       "_\bR_\be_\bf_\be_\br_\be_\bn_\bc_\be_\bs:\n",
       "\n",
       "     Becker, R. A., Chambers, J. M. and Wilks, A. R. (1988) _The New S\n",
       "     Language_.  Wadsworth & Brooks/Cole.\n",
       "\n",
       "_\bS_\be_\be _\bA_\bl_\bs_\bo:\n",
       "\n",
       "     ‘RNG’ about random number generation in R.\n",
       "\n",
       "     Distributions for other standard distributions.\n",
       "\n",
       "_\bE_\bx_\ba_\bm_\bp_\bl_\be_\bs:\n",
       "\n",
       "     u <- runif(20)\n",
       "     \n",
       "     ## The following relations always hold :\n",
       "     punif(u) == u\n",
       "     dunif(u) == 1\n",
       "     \n",
       "     var(runif(10000))  #- ~ = 1/12 = .08333\n",
       "     "
      ]
     },
     "metadata": {},
     "output_type": "display_data"
    }
   ],
   "source": [
    "?runif()"
   ]
  },
  {
   "cell_type": "markdown",
   "id": "a2698634-aee6-4790-9067-9a70003b55cb",
   "metadata": {},
   "source": [
    "We don't have to use a uniform distribution. Actually, a normal distribution will be better. Let's do that instead."
   ]
  },
  {
   "cell_type": "code",
   "execution_count": 20,
   "id": "de4a1ed7-b9de-4d1c-aafb-f663ef593c78",
   "metadata": {},
   "outputs": [],
   "source": [
    "weight1 <- rnorm(30, 60, 10)#mean=60, 10=first sd\n",
    "weight2 <- rnorm(30, 80, 10)"
   ]
  },
  {
   "cell_type": "markdown",
   "id": "96fb9a30-367e-403a-8058-24b0715b1611",
   "metadata": {},
   "source": [
    "A normal distribution is a symmetric, bell-shaped probability distribution characterized by its mean and standard deviation, where approximately 68% of the data falls within one standard deviation of the mean."
   ]
  },
  {
   "cell_type": "markdown",
   "id": "a1468e8b-d238-4885-9d26-4502e6da5308",
   "metadata": {},
   "source": [
    "We can also make lists of words. This can be useful if our variables are categorical. "
   ]
  },
  {
   "cell_type": "code",
   "execution_count": 60,
   "id": "70879df2-7725-443e-8208-c4954b30a138",
   "metadata": {},
   "outputs": [],
   "source": [
    "species1 <- rep(\"Deer\", 30)\n",
    "species2 <- rep(\"Reindeer\", 30)"
   ]
  },
  {
   "cell_type": "markdown",
   "id": "7198b1e8-6298-4fb9-a319-f7f2f723d725",
   "metadata": {},
   "source": [
    "We can also manipulate arrays. This can be necessary for tidying data, and getting it into the right format. We can for example append one array to another. We just use the c() function for this."
   ]
  },
  {
   "cell_type": "code",
   "execution_count": 61,
   "id": "750d9402-c1cc-4866-a00b-3f0e75dfe402",
   "metadata": {},
   "outputs": [
    {
     "data": {
      "text/html": [
       "<style>\n",
       ".list-inline {list-style: none; margin:0; padding: 0}\n",
       ".list-inline>li {display: inline-block}\n",
       ".list-inline>li:not(:last-child)::after {content: \"\\00b7\"; padding: 0 .5ex}\n",
       "</style>\n",
       "<ol class=list-inline><li>45.7444245215814</li><li>65.8206480560102</li><li>53.664658917995</li><li>57.2939477795836</li><li>57.7055941774198</li><li>50.9040073303983</li><li>69.4145284274683</li><li>60.3062008732038</li><li>39.7845129560534</li><li>69.4168794008115</li><li>50.8735947323614</li><li>64.0204038523285</li><li>63.4802305429779</li><li>50.3860635490577</li><li>51.5671547302645</li><li>55.3986890015523</li><li>71.6973889980595</li><li>56.2181113780026</li><li>58.6688069691114</li><li>57.8010009067359</li><li>59.9361108732109</li><li>54.3655292334563</li><li>63.8224239909234</li><li>57.6893936380197</li><li>58.633681023404</li><li>73.5010798167322</li><li>48.8015805688232</li><li>57.864028345872</li><li>50.9281762409724</li><li>49.356774993826</li><li>87.4930724780944</li><li>86.8853983706952</li><li>82.7209270963236</li><li>77.061411143267</li><li>88.9565574060461</li><li>81.0232378424944</li><li>80.2774850630797</li><li>94.9407376624335</li><li>81.7831187685371</li><li>58.0256239891511</li><li>88.2625425977446</li><li>46.7428633326278</li><li>70.8782437893963</li><li>80.0230503688838</li><li>91.0488984951116</li><li>83.6053236880084</li><li>92.3300011975827</li><li>86.6230905797408</li><li>88.2989920475738</li><li>82.305617383241</li><li>93.6725941397575</li><li>83.153961571861</li><li>81.4599704738351</li><li>76.916516332692</li><li>89.7770314219226</li><li>100.978854591647</li><li>71.6572950867396</li><li>85.801475140568</li><li>72.5576776692042</li><li>71.0833390498401</li></ol>\n"
      ],
      "text/latex": [
       "\\begin{enumerate*}\n",
       "\\item 45.7444245215814\n",
       "\\item 65.8206480560102\n",
       "\\item 53.664658917995\n",
       "\\item 57.2939477795836\n",
       "\\item 57.7055941774198\n",
       "\\item 50.9040073303983\n",
       "\\item 69.4145284274683\n",
       "\\item 60.3062008732038\n",
       "\\item 39.7845129560534\n",
       "\\item 69.4168794008115\n",
       "\\item 50.8735947323614\n",
       "\\item 64.0204038523285\n",
       "\\item 63.4802305429779\n",
       "\\item 50.3860635490577\n",
       "\\item 51.5671547302645\n",
       "\\item 55.3986890015523\n",
       "\\item 71.6973889980595\n",
       "\\item 56.2181113780026\n",
       "\\item 58.6688069691114\n",
       "\\item 57.8010009067359\n",
       "\\item 59.9361108732109\n",
       "\\item 54.3655292334563\n",
       "\\item 63.8224239909234\n",
       "\\item 57.6893936380197\n",
       "\\item 58.633681023404\n",
       "\\item 73.5010798167322\n",
       "\\item 48.8015805688232\n",
       "\\item 57.864028345872\n",
       "\\item 50.9281762409724\n",
       "\\item 49.356774993826\n",
       "\\item 87.4930724780944\n",
       "\\item 86.8853983706952\n",
       "\\item 82.7209270963236\n",
       "\\item 77.061411143267\n",
       "\\item 88.9565574060461\n",
       "\\item 81.0232378424944\n",
       "\\item 80.2774850630797\n",
       "\\item 94.9407376624335\n",
       "\\item 81.7831187685371\n",
       "\\item 58.0256239891511\n",
       "\\item 88.2625425977446\n",
       "\\item 46.7428633326278\n",
       "\\item 70.8782437893963\n",
       "\\item 80.0230503688838\n",
       "\\item 91.0488984951116\n",
       "\\item 83.6053236880084\n",
       "\\item 92.3300011975827\n",
       "\\item 86.6230905797408\n",
       "\\item 88.2989920475738\n",
       "\\item 82.305617383241\n",
       "\\item 93.6725941397575\n",
       "\\item 83.153961571861\n",
       "\\item 81.4599704738351\n",
       "\\item 76.916516332692\n",
       "\\item 89.7770314219226\n",
       "\\item 100.978854591647\n",
       "\\item 71.6572950867396\n",
       "\\item 85.801475140568\n",
       "\\item 72.5576776692042\n",
       "\\item 71.0833390498401\n",
       "\\end{enumerate*}\n"
      ],
      "text/markdown": [
       "1. 45.7444245215814\n",
       "2. 65.8206480560102\n",
       "3. 53.664658917995\n",
       "4. 57.2939477795836\n",
       "5. 57.7055941774198\n",
       "6. 50.9040073303983\n",
       "7. 69.4145284274683\n",
       "8. 60.3062008732038\n",
       "9. 39.7845129560534\n",
       "10. 69.4168794008115\n",
       "11. 50.8735947323614\n",
       "12. 64.0204038523285\n",
       "13. 63.4802305429779\n",
       "14. 50.3860635490577\n",
       "15. 51.5671547302645\n",
       "16. 55.3986890015523\n",
       "17. 71.6973889980595\n",
       "18. 56.2181113780026\n",
       "19. 58.6688069691114\n",
       "20. 57.8010009067359\n",
       "21. 59.9361108732109\n",
       "22. 54.3655292334563\n",
       "23. 63.8224239909234\n",
       "24. 57.6893936380197\n",
       "25. 58.633681023404\n",
       "26. 73.5010798167322\n",
       "27. 48.8015805688232\n",
       "28. 57.864028345872\n",
       "29. 50.9281762409724\n",
       "30. 49.356774993826\n",
       "31. 87.4930724780944\n",
       "32. 86.8853983706952\n",
       "33. 82.7209270963236\n",
       "34. 77.061411143267\n",
       "35. 88.9565574060461\n",
       "36. 81.0232378424944\n",
       "37. 80.2774850630797\n",
       "38. 94.9407376624335\n",
       "39. 81.7831187685371\n",
       "40. 58.0256239891511\n",
       "41. 88.2625425977446\n",
       "42. 46.7428633326278\n",
       "43. 70.8782437893963\n",
       "44. 80.0230503688838\n",
       "45. 91.0488984951116\n",
       "46. 83.6053236880084\n",
       "47. 92.3300011975827\n",
       "48. 86.6230905797408\n",
       "49. 88.2989920475738\n",
       "50. 82.305617383241\n",
       "51. 93.6725941397575\n",
       "52. 83.153961571861\n",
       "53. 81.4599704738351\n",
       "54. 76.916516332692\n",
       "55. 89.7770314219226\n",
       "56. 100.978854591647\n",
       "57. 71.6572950867396\n",
       "58. 85.801475140568\n",
       "59. 72.5576776692042\n",
       "60. 71.0833390498401\n",
       "\n",
       "\n"
      ],
      "text/plain": [
       " [1]  45.74442  65.82065  53.66466  57.29395  57.70559  50.90401  69.41453\n",
       " [8]  60.30620  39.78451  69.41688  50.87359  64.02040  63.48023  50.38606\n",
       "[15]  51.56715  55.39869  71.69739  56.21811  58.66881  57.80100  59.93611\n",
       "[22]  54.36553  63.82242  57.68939  58.63368  73.50108  48.80158  57.86403\n",
       "[29]  50.92818  49.35677  87.49307  86.88540  82.72093  77.06141  88.95656\n",
       "[36]  81.02324  80.27749  94.94074  81.78312  58.02562  88.26254  46.74286\n",
       "[43]  70.87824  80.02305  91.04890  83.60532  92.33000  86.62309  88.29899\n",
       "[50]  82.30562  93.67259  83.15396  81.45997  76.91652  89.77703 100.97885\n",
       "[57]  71.65730  85.80148  72.55768  71.08334"
      ]
     },
     "metadata": {},
     "output_type": "display_data"
    },
    {
     "data": {
      "text/html": [
       "<style>\n",
       ".list-inline {list-style: none; margin:0; padding: 0}\n",
       ".list-inline>li {display: inline-block}\n",
       ".list-inline>li:not(:last-child)::after {content: \"\\00b7\"; padding: 0 .5ex}\n",
       "</style>\n",
       "<ol class=list-inline><li>'Deer'</li><li>'Deer'</li><li>'Deer'</li><li>'Deer'</li><li>'Deer'</li><li>'Deer'</li><li>'Deer'</li><li>'Deer'</li><li>'Deer'</li><li>'Deer'</li><li>'Deer'</li><li>'Deer'</li><li>'Deer'</li><li>'Deer'</li><li>'Deer'</li><li>'Deer'</li><li>'Deer'</li><li>'Deer'</li><li>'Deer'</li><li>'Deer'</li><li>'Deer'</li><li>'Deer'</li><li>'Deer'</li><li>'Deer'</li><li>'Deer'</li><li>'Deer'</li><li>'Deer'</li><li>'Deer'</li><li>'Deer'</li><li>'Deer'</li><li>'Reindeer'</li><li>'Reindeer'</li><li>'Reindeer'</li><li>'Reindeer'</li><li>'Reindeer'</li><li>'Reindeer'</li><li>'Reindeer'</li><li>'Reindeer'</li><li>'Reindeer'</li><li>'Reindeer'</li><li>'Reindeer'</li><li>'Reindeer'</li><li>'Reindeer'</li><li>'Reindeer'</li><li>'Reindeer'</li><li>'Reindeer'</li><li>'Reindeer'</li><li>'Reindeer'</li><li>'Reindeer'</li><li>'Reindeer'</li><li>'Reindeer'</li><li>'Reindeer'</li><li>'Reindeer'</li><li>'Reindeer'</li><li>'Reindeer'</li><li>'Reindeer'</li><li>'Reindeer'</li><li>'Reindeer'</li><li>'Reindeer'</li><li>'Reindeer'</li></ol>\n"
      ],
      "text/latex": [
       "\\begin{enumerate*}\n",
       "\\item 'Deer'\n",
       "\\item 'Deer'\n",
       "\\item 'Deer'\n",
       "\\item 'Deer'\n",
       "\\item 'Deer'\n",
       "\\item 'Deer'\n",
       "\\item 'Deer'\n",
       "\\item 'Deer'\n",
       "\\item 'Deer'\n",
       "\\item 'Deer'\n",
       "\\item 'Deer'\n",
       "\\item 'Deer'\n",
       "\\item 'Deer'\n",
       "\\item 'Deer'\n",
       "\\item 'Deer'\n",
       "\\item 'Deer'\n",
       "\\item 'Deer'\n",
       "\\item 'Deer'\n",
       "\\item 'Deer'\n",
       "\\item 'Deer'\n",
       "\\item 'Deer'\n",
       "\\item 'Deer'\n",
       "\\item 'Deer'\n",
       "\\item 'Deer'\n",
       "\\item 'Deer'\n",
       "\\item 'Deer'\n",
       "\\item 'Deer'\n",
       "\\item 'Deer'\n",
       "\\item 'Deer'\n",
       "\\item 'Deer'\n",
       "\\item 'Reindeer'\n",
       "\\item 'Reindeer'\n",
       "\\item 'Reindeer'\n",
       "\\item 'Reindeer'\n",
       "\\item 'Reindeer'\n",
       "\\item 'Reindeer'\n",
       "\\item 'Reindeer'\n",
       "\\item 'Reindeer'\n",
       "\\item 'Reindeer'\n",
       "\\item 'Reindeer'\n",
       "\\item 'Reindeer'\n",
       "\\item 'Reindeer'\n",
       "\\item 'Reindeer'\n",
       "\\item 'Reindeer'\n",
       "\\item 'Reindeer'\n",
       "\\item 'Reindeer'\n",
       "\\item 'Reindeer'\n",
       "\\item 'Reindeer'\n",
       "\\item 'Reindeer'\n",
       "\\item 'Reindeer'\n",
       "\\item 'Reindeer'\n",
       "\\item 'Reindeer'\n",
       "\\item 'Reindeer'\n",
       "\\item 'Reindeer'\n",
       "\\item 'Reindeer'\n",
       "\\item 'Reindeer'\n",
       "\\item 'Reindeer'\n",
       "\\item 'Reindeer'\n",
       "\\item 'Reindeer'\n",
       "\\item 'Reindeer'\n",
       "\\end{enumerate*}\n"
      ],
      "text/markdown": [
       "1. 'Deer'\n",
       "2. 'Deer'\n",
       "3. 'Deer'\n",
       "4. 'Deer'\n",
       "5. 'Deer'\n",
       "6. 'Deer'\n",
       "7. 'Deer'\n",
       "8. 'Deer'\n",
       "9. 'Deer'\n",
       "10. 'Deer'\n",
       "11. 'Deer'\n",
       "12. 'Deer'\n",
       "13. 'Deer'\n",
       "14. 'Deer'\n",
       "15. 'Deer'\n",
       "16. 'Deer'\n",
       "17. 'Deer'\n",
       "18. 'Deer'\n",
       "19. 'Deer'\n",
       "20. 'Deer'\n",
       "21. 'Deer'\n",
       "22. 'Deer'\n",
       "23. 'Deer'\n",
       "24. 'Deer'\n",
       "25. 'Deer'\n",
       "26. 'Deer'\n",
       "27. 'Deer'\n",
       "28. 'Deer'\n",
       "29. 'Deer'\n",
       "30. 'Deer'\n",
       "31. 'Reindeer'\n",
       "32. 'Reindeer'\n",
       "33. 'Reindeer'\n",
       "34. 'Reindeer'\n",
       "35. 'Reindeer'\n",
       "36. 'Reindeer'\n",
       "37. 'Reindeer'\n",
       "38. 'Reindeer'\n",
       "39. 'Reindeer'\n",
       "40. 'Reindeer'\n",
       "41. 'Reindeer'\n",
       "42. 'Reindeer'\n",
       "43. 'Reindeer'\n",
       "44. 'Reindeer'\n",
       "45. 'Reindeer'\n",
       "46. 'Reindeer'\n",
       "47. 'Reindeer'\n",
       "48. 'Reindeer'\n",
       "49. 'Reindeer'\n",
       "50. 'Reindeer'\n",
       "51. 'Reindeer'\n",
       "52. 'Reindeer'\n",
       "53. 'Reindeer'\n",
       "54. 'Reindeer'\n",
       "55. 'Reindeer'\n",
       "56. 'Reindeer'\n",
       "57. 'Reindeer'\n",
       "58. 'Reindeer'\n",
       "59. 'Reindeer'\n",
       "60. 'Reindeer'\n",
       "\n",
       "\n"
      ],
      "text/plain": [
       " [1] \"Deer\"     \"Deer\"     \"Deer\"     \"Deer\"     \"Deer\"     \"Deer\"    \n",
       " [7] \"Deer\"     \"Deer\"     \"Deer\"     \"Deer\"     \"Deer\"     \"Deer\"    \n",
       "[13] \"Deer\"     \"Deer\"     \"Deer\"     \"Deer\"     \"Deer\"     \"Deer\"    \n",
       "[19] \"Deer\"     \"Deer\"     \"Deer\"     \"Deer\"     \"Deer\"     \"Deer\"    \n",
       "[25] \"Deer\"     \"Deer\"     \"Deer\"     \"Deer\"     \"Deer\"     \"Deer\"    \n",
       "[31] \"Reindeer\" \"Reindeer\" \"Reindeer\" \"Reindeer\" \"Reindeer\" \"Reindeer\"\n",
       "[37] \"Reindeer\" \"Reindeer\" \"Reindeer\" \"Reindeer\" \"Reindeer\" \"Reindeer\"\n",
       "[43] \"Reindeer\" \"Reindeer\" \"Reindeer\" \"Reindeer\" \"Reindeer\" \"Reindeer\"\n",
       "[49] \"Reindeer\" \"Reindeer\" \"Reindeer\" \"Reindeer\" \"Reindeer\" \"Reindeer\"\n",
       "[55] \"Reindeer\" \"Reindeer\" \"Reindeer\" \"Reindeer\" \"Reindeer\" \"Reindeer\""
      ]
     },
     "metadata": {},
     "output_type": "display_data"
    }
   ],
   "source": [
    "Weight <- c(weight1, weight2)\n",
    "Species <- c(species1, species2)\n",
    "Weight\n",
    "Species"
   ]
  },
  {
   "cell_type": "markdown",
   "id": "987c336d-d560-4c57-9d87-eee75a342173",
   "metadata": {},
   "source": [
    "This gives us our weights and species as nice tidy data arrays. We can also organise our data into spreadsheets like excel. These are called data frames in R."
   ]
  },
  {
   "cell_type": "code",
   "execution_count": 62,
   "id": "03134980-2042-4ef6-92fa-930639259b9c",
   "metadata": {},
   "outputs": [],
   "source": [
    "DeerStudy <- data.frame(Weight, Species)"
   ]
  },
  {
   "cell_type": "markdown",
   "id": "21b1fbbc-a349-4d17-8452-81cec475d781",
   "metadata": {},
   "source": [
    "You can always take a look at the dataframe by calling it."
   ]
  },
  {
   "cell_type": "code",
   "execution_count": 63,
   "id": "024e2e50-5a68-49f5-8ca3-bf6271649f81",
   "metadata": {
    "scrolled": true
   },
   "outputs": [
    {
     "data": {
      "text/html": [
       "<table class=\"dataframe\">\n",
       "<caption>A data.frame: 60 × 2</caption>\n",
       "<thead>\n",
       "\t<tr><th scope=col>Weight</th><th scope=col>Species</th></tr>\n",
       "\t<tr><th scope=col>&lt;dbl&gt;</th><th scope=col>&lt;chr&gt;</th></tr>\n",
       "</thead>\n",
       "<tbody>\n",
       "\t<tr><td> 45.74442</td><td>Deer    </td></tr>\n",
       "\t<tr><td> 65.82065</td><td>Deer    </td></tr>\n",
       "\t<tr><td> 53.66466</td><td>Deer    </td></tr>\n",
       "\t<tr><td> 57.29395</td><td>Deer    </td></tr>\n",
       "\t<tr><td> 57.70559</td><td>Deer    </td></tr>\n",
       "\t<tr><td> 50.90401</td><td>Deer    </td></tr>\n",
       "\t<tr><td> 69.41453</td><td>Deer    </td></tr>\n",
       "\t<tr><td> 60.30620</td><td>Deer    </td></tr>\n",
       "\t<tr><td> 39.78451</td><td>Deer    </td></tr>\n",
       "\t<tr><td> 69.41688</td><td>Deer    </td></tr>\n",
       "\t<tr><td> 50.87359</td><td>Deer    </td></tr>\n",
       "\t<tr><td> 64.02040</td><td>Deer    </td></tr>\n",
       "\t<tr><td> 63.48023</td><td>Deer    </td></tr>\n",
       "\t<tr><td> 50.38606</td><td>Deer    </td></tr>\n",
       "\t<tr><td> 51.56715</td><td>Deer    </td></tr>\n",
       "\t<tr><td> 55.39869</td><td>Deer    </td></tr>\n",
       "\t<tr><td> 71.69739</td><td>Deer    </td></tr>\n",
       "\t<tr><td> 56.21811</td><td>Deer    </td></tr>\n",
       "\t<tr><td> 58.66881</td><td>Deer    </td></tr>\n",
       "\t<tr><td> 57.80100</td><td>Deer    </td></tr>\n",
       "\t<tr><td> 59.93611</td><td>Deer    </td></tr>\n",
       "\t<tr><td> 54.36553</td><td>Deer    </td></tr>\n",
       "\t<tr><td> 63.82242</td><td>Deer    </td></tr>\n",
       "\t<tr><td> 57.68939</td><td>Deer    </td></tr>\n",
       "\t<tr><td> 58.63368</td><td>Deer    </td></tr>\n",
       "\t<tr><td> 73.50108</td><td>Deer    </td></tr>\n",
       "\t<tr><td> 48.80158</td><td>Deer    </td></tr>\n",
       "\t<tr><td> 57.86403</td><td>Deer    </td></tr>\n",
       "\t<tr><td> 50.92818</td><td>Deer    </td></tr>\n",
       "\t<tr><td> 49.35677</td><td>Deer    </td></tr>\n",
       "\t<tr><td> 87.49307</td><td>Reindeer</td></tr>\n",
       "\t<tr><td> 86.88540</td><td>Reindeer</td></tr>\n",
       "\t<tr><td> 82.72093</td><td>Reindeer</td></tr>\n",
       "\t<tr><td> 77.06141</td><td>Reindeer</td></tr>\n",
       "\t<tr><td> 88.95656</td><td>Reindeer</td></tr>\n",
       "\t<tr><td> 81.02324</td><td>Reindeer</td></tr>\n",
       "\t<tr><td> 80.27749</td><td>Reindeer</td></tr>\n",
       "\t<tr><td> 94.94074</td><td>Reindeer</td></tr>\n",
       "\t<tr><td> 81.78312</td><td>Reindeer</td></tr>\n",
       "\t<tr><td> 58.02562</td><td>Reindeer</td></tr>\n",
       "\t<tr><td> 88.26254</td><td>Reindeer</td></tr>\n",
       "\t<tr><td> 46.74286</td><td>Reindeer</td></tr>\n",
       "\t<tr><td> 70.87824</td><td>Reindeer</td></tr>\n",
       "\t<tr><td> 80.02305</td><td>Reindeer</td></tr>\n",
       "\t<tr><td> 91.04890</td><td>Reindeer</td></tr>\n",
       "\t<tr><td> 83.60532</td><td>Reindeer</td></tr>\n",
       "\t<tr><td> 92.33000</td><td>Reindeer</td></tr>\n",
       "\t<tr><td> 86.62309</td><td>Reindeer</td></tr>\n",
       "\t<tr><td> 88.29899</td><td>Reindeer</td></tr>\n",
       "\t<tr><td> 82.30562</td><td>Reindeer</td></tr>\n",
       "\t<tr><td> 93.67259</td><td>Reindeer</td></tr>\n",
       "\t<tr><td> 83.15396</td><td>Reindeer</td></tr>\n",
       "\t<tr><td> 81.45997</td><td>Reindeer</td></tr>\n",
       "\t<tr><td> 76.91652</td><td>Reindeer</td></tr>\n",
       "\t<tr><td> 89.77703</td><td>Reindeer</td></tr>\n",
       "\t<tr><td>100.97885</td><td>Reindeer</td></tr>\n",
       "\t<tr><td> 71.65730</td><td>Reindeer</td></tr>\n",
       "\t<tr><td> 85.80148</td><td>Reindeer</td></tr>\n",
       "\t<tr><td> 72.55768</td><td>Reindeer</td></tr>\n",
       "\t<tr><td> 71.08334</td><td>Reindeer</td></tr>\n",
       "</tbody>\n",
       "</table>\n"
      ],
      "text/latex": [
       "A data.frame: 60 × 2\n",
       "\\begin{tabular}{ll}\n",
       " Weight & Species\\\\\n",
       " <dbl> & <chr>\\\\\n",
       "\\hline\n",
       "\t  45.74442 & Deer    \\\\\n",
       "\t  65.82065 & Deer    \\\\\n",
       "\t  53.66466 & Deer    \\\\\n",
       "\t  57.29395 & Deer    \\\\\n",
       "\t  57.70559 & Deer    \\\\\n",
       "\t  50.90401 & Deer    \\\\\n",
       "\t  69.41453 & Deer    \\\\\n",
       "\t  60.30620 & Deer    \\\\\n",
       "\t  39.78451 & Deer    \\\\\n",
       "\t  69.41688 & Deer    \\\\\n",
       "\t  50.87359 & Deer    \\\\\n",
       "\t  64.02040 & Deer    \\\\\n",
       "\t  63.48023 & Deer    \\\\\n",
       "\t  50.38606 & Deer    \\\\\n",
       "\t  51.56715 & Deer    \\\\\n",
       "\t  55.39869 & Deer    \\\\\n",
       "\t  71.69739 & Deer    \\\\\n",
       "\t  56.21811 & Deer    \\\\\n",
       "\t  58.66881 & Deer    \\\\\n",
       "\t  57.80100 & Deer    \\\\\n",
       "\t  59.93611 & Deer    \\\\\n",
       "\t  54.36553 & Deer    \\\\\n",
       "\t  63.82242 & Deer    \\\\\n",
       "\t  57.68939 & Deer    \\\\\n",
       "\t  58.63368 & Deer    \\\\\n",
       "\t  73.50108 & Deer    \\\\\n",
       "\t  48.80158 & Deer    \\\\\n",
       "\t  57.86403 & Deer    \\\\\n",
       "\t  50.92818 & Deer    \\\\\n",
       "\t  49.35677 & Deer    \\\\\n",
       "\t  87.49307 & Reindeer\\\\\n",
       "\t  86.88540 & Reindeer\\\\\n",
       "\t  82.72093 & Reindeer\\\\\n",
       "\t  77.06141 & Reindeer\\\\\n",
       "\t  88.95656 & Reindeer\\\\\n",
       "\t  81.02324 & Reindeer\\\\\n",
       "\t  80.27749 & Reindeer\\\\\n",
       "\t  94.94074 & Reindeer\\\\\n",
       "\t  81.78312 & Reindeer\\\\\n",
       "\t  58.02562 & Reindeer\\\\\n",
       "\t  88.26254 & Reindeer\\\\\n",
       "\t  46.74286 & Reindeer\\\\\n",
       "\t  70.87824 & Reindeer\\\\\n",
       "\t  80.02305 & Reindeer\\\\\n",
       "\t  91.04890 & Reindeer\\\\\n",
       "\t  83.60532 & Reindeer\\\\\n",
       "\t  92.33000 & Reindeer\\\\\n",
       "\t  86.62309 & Reindeer\\\\\n",
       "\t  88.29899 & Reindeer\\\\\n",
       "\t  82.30562 & Reindeer\\\\\n",
       "\t  93.67259 & Reindeer\\\\\n",
       "\t  83.15396 & Reindeer\\\\\n",
       "\t  81.45997 & Reindeer\\\\\n",
       "\t  76.91652 & Reindeer\\\\\n",
       "\t  89.77703 & Reindeer\\\\\n",
       "\t 100.97885 & Reindeer\\\\\n",
       "\t  71.65730 & Reindeer\\\\\n",
       "\t  85.80148 & Reindeer\\\\\n",
       "\t  72.55768 & Reindeer\\\\\n",
       "\t  71.08334 & Reindeer\\\\\n",
       "\\end{tabular}\n"
      ],
      "text/markdown": [
       "\n",
       "A data.frame: 60 × 2\n",
       "\n",
       "| Weight &lt;dbl&gt; | Species &lt;chr&gt; |\n",
       "|---|---|\n",
       "|  45.74442 | Deer     |\n",
       "|  65.82065 | Deer     |\n",
       "|  53.66466 | Deer     |\n",
       "|  57.29395 | Deer     |\n",
       "|  57.70559 | Deer     |\n",
       "|  50.90401 | Deer     |\n",
       "|  69.41453 | Deer     |\n",
       "|  60.30620 | Deer     |\n",
       "|  39.78451 | Deer     |\n",
       "|  69.41688 | Deer     |\n",
       "|  50.87359 | Deer     |\n",
       "|  64.02040 | Deer     |\n",
       "|  63.48023 | Deer     |\n",
       "|  50.38606 | Deer     |\n",
       "|  51.56715 | Deer     |\n",
       "|  55.39869 | Deer     |\n",
       "|  71.69739 | Deer     |\n",
       "|  56.21811 | Deer     |\n",
       "|  58.66881 | Deer     |\n",
       "|  57.80100 | Deer     |\n",
       "|  59.93611 | Deer     |\n",
       "|  54.36553 | Deer     |\n",
       "|  63.82242 | Deer     |\n",
       "|  57.68939 | Deer     |\n",
       "|  58.63368 | Deer     |\n",
       "|  73.50108 | Deer     |\n",
       "|  48.80158 | Deer     |\n",
       "|  57.86403 | Deer     |\n",
       "|  50.92818 | Deer     |\n",
       "|  49.35677 | Deer     |\n",
       "|  87.49307 | Reindeer |\n",
       "|  86.88540 | Reindeer |\n",
       "|  82.72093 | Reindeer |\n",
       "|  77.06141 | Reindeer |\n",
       "|  88.95656 | Reindeer |\n",
       "|  81.02324 | Reindeer |\n",
       "|  80.27749 | Reindeer |\n",
       "|  94.94074 | Reindeer |\n",
       "|  81.78312 | Reindeer |\n",
       "|  58.02562 | Reindeer |\n",
       "|  88.26254 | Reindeer |\n",
       "|  46.74286 | Reindeer |\n",
       "|  70.87824 | Reindeer |\n",
       "|  80.02305 | Reindeer |\n",
       "|  91.04890 | Reindeer |\n",
       "|  83.60532 | Reindeer |\n",
       "|  92.33000 | Reindeer |\n",
       "|  86.62309 | Reindeer |\n",
       "|  88.29899 | Reindeer |\n",
       "|  82.30562 | Reindeer |\n",
       "|  93.67259 | Reindeer |\n",
       "|  83.15396 | Reindeer |\n",
       "|  81.45997 | Reindeer |\n",
       "|  76.91652 | Reindeer |\n",
       "|  89.77703 | Reindeer |\n",
       "| 100.97885 | Reindeer |\n",
       "|  71.65730 | Reindeer |\n",
       "|  85.80148 | Reindeer |\n",
       "|  72.55768 | Reindeer |\n",
       "|  71.08334 | Reindeer |\n",
       "\n"
      ],
      "text/plain": [
       "   Weight    Species \n",
       "1   45.74442 Deer    \n",
       "2   65.82065 Deer    \n",
       "3   53.66466 Deer    \n",
       "4   57.29395 Deer    \n",
       "5   57.70559 Deer    \n",
       "6   50.90401 Deer    \n",
       "7   69.41453 Deer    \n",
       "8   60.30620 Deer    \n",
       "9   39.78451 Deer    \n",
       "10  69.41688 Deer    \n",
       "11  50.87359 Deer    \n",
       "12  64.02040 Deer    \n",
       "13  63.48023 Deer    \n",
       "14  50.38606 Deer    \n",
       "15  51.56715 Deer    \n",
       "16  55.39869 Deer    \n",
       "17  71.69739 Deer    \n",
       "18  56.21811 Deer    \n",
       "19  58.66881 Deer    \n",
       "20  57.80100 Deer    \n",
       "21  59.93611 Deer    \n",
       "22  54.36553 Deer    \n",
       "23  63.82242 Deer    \n",
       "24  57.68939 Deer    \n",
       "25  58.63368 Deer    \n",
       "26  73.50108 Deer    \n",
       "27  48.80158 Deer    \n",
       "28  57.86403 Deer    \n",
       "29  50.92818 Deer    \n",
       "30  49.35677 Deer    \n",
       "31  87.49307 Reindeer\n",
       "32  86.88540 Reindeer\n",
       "33  82.72093 Reindeer\n",
       "34  77.06141 Reindeer\n",
       "35  88.95656 Reindeer\n",
       "36  81.02324 Reindeer\n",
       "37  80.27749 Reindeer\n",
       "38  94.94074 Reindeer\n",
       "39  81.78312 Reindeer\n",
       "40  58.02562 Reindeer\n",
       "41  88.26254 Reindeer\n",
       "42  46.74286 Reindeer\n",
       "43  70.87824 Reindeer\n",
       "44  80.02305 Reindeer\n",
       "45  91.04890 Reindeer\n",
       "46  83.60532 Reindeer\n",
       "47  92.33000 Reindeer\n",
       "48  86.62309 Reindeer\n",
       "49  88.29899 Reindeer\n",
       "50  82.30562 Reindeer\n",
       "51  93.67259 Reindeer\n",
       "52  83.15396 Reindeer\n",
       "53  81.45997 Reindeer\n",
       "54  76.91652 Reindeer\n",
       "55  89.77703 Reindeer\n",
       "56 100.97885 Reindeer\n",
       "57  71.65730 Reindeer\n",
       "58  85.80148 Reindeer\n",
       "59  72.55768 Reindeer\n",
       "60  71.08334 Reindeer"
      ]
     },
     "metadata": {},
     "output_type": "display_data"
    }
   ],
   "source": [
    "DeerStudy"
   ]
  },
  {
   "cell_type": "markdown",
   "id": "9311c1ee-e60f-46b7-a56a-1e15095e59bc",
   "metadata": {},
   "source": [
    "We can look at just the top of this spreadsheet."
   ]
  },
  {
   "cell_type": "code",
   "execution_count": null,
   "id": "10d529da-ef20-41b9-9ec7-908d2f6a4b69",
   "metadata": {},
   "outputs": [],
   "source": [
    "head(DeerStudy)"
   ]
  },
  {
   "cell_type": "markdown",
   "id": "21dea1b3-09c3-40f1-91d0-896897eebb3b",
   "metadata": {},
   "source": [
    "We can also pick out specific variables to do stuff to. We use the '$' for this."
   ]
  },
  {
   "cell_type": "code",
   "execution_count": 28,
   "id": "eb8f3359-f073-4ba3-9ac2-0fa26f38e133",
   "metadata": {},
   "outputs": [
    {
     "data": {
      "text/html": [
       "<style>\n",
       ".list-inline {list-style: none; margin:0; padding: 0}\n",
       ".list-inline>li {display: inline-block}\n",
       ".list-inline>li:not(:last-child)::after {content: \"\\00b7\"; padding: 0 .5ex}\n",
       "</style>\n",
       "<ol class=list-inline><li>45.7444245215814</li><li>65.8206480560102</li><li>53.664658917995</li><li>57.2939477795836</li><li>57.7055941774198</li><li>50.9040073303983</li><li>69.4145284274683</li><li>60.3062008732038</li><li>39.7845129560534</li><li>69.4168794008115</li><li>50.8735947323614</li><li>64.0204038523285</li><li>63.4802305429779</li><li>50.3860635490577</li><li>51.5671547302645</li><li>55.3986890015523</li><li>71.6973889980595</li><li>56.2181113780026</li><li>58.6688069691114</li><li>57.8010009067359</li><li>59.9361108732109</li><li>54.3655292334563</li><li>63.8224239909234</li><li>57.6893936380197</li><li>58.633681023404</li><li>73.5010798167322</li><li>48.8015805688232</li><li>57.864028345872</li><li>50.9281762409724</li><li>49.356774993826</li><li>87.4930724780944</li><li>86.8853983706952</li><li>82.7209270963236</li><li>77.061411143267</li><li>88.9565574060461</li><li>81.0232378424944</li><li>80.2774850630797</li><li>94.9407376624335</li><li>81.7831187685371</li><li>58.0256239891511</li><li>88.2625425977446</li><li>46.7428633326278</li><li>70.8782437893963</li><li>80.0230503688838</li><li>91.0488984951116</li><li>83.6053236880084</li><li>92.3300011975827</li><li>86.6230905797408</li><li>88.2989920475738</li><li>82.305617383241</li><li>93.6725941397575</li><li>83.153961571861</li><li>81.4599704738351</li><li>76.916516332692</li><li>89.7770314219226</li><li>100.978854591647</li><li>71.6572950867396</li><li>85.801475140568</li><li>72.5576776692042</li><li>71.0833390498401</li></ol>\n"
      ],
      "text/latex": [
       "\\begin{enumerate*}\n",
       "\\item 45.7444245215814\n",
       "\\item 65.8206480560102\n",
       "\\item 53.664658917995\n",
       "\\item 57.2939477795836\n",
       "\\item 57.7055941774198\n",
       "\\item 50.9040073303983\n",
       "\\item 69.4145284274683\n",
       "\\item 60.3062008732038\n",
       "\\item 39.7845129560534\n",
       "\\item 69.4168794008115\n",
       "\\item 50.8735947323614\n",
       "\\item 64.0204038523285\n",
       "\\item 63.4802305429779\n",
       "\\item 50.3860635490577\n",
       "\\item 51.5671547302645\n",
       "\\item 55.3986890015523\n",
       "\\item 71.6973889980595\n",
       "\\item 56.2181113780026\n",
       "\\item 58.6688069691114\n",
       "\\item 57.8010009067359\n",
       "\\item 59.9361108732109\n",
       "\\item 54.3655292334563\n",
       "\\item 63.8224239909234\n",
       "\\item 57.6893936380197\n",
       "\\item 58.633681023404\n",
       "\\item 73.5010798167322\n",
       "\\item 48.8015805688232\n",
       "\\item 57.864028345872\n",
       "\\item 50.9281762409724\n",
       "\\item 49.356774993826\n",
       "\\item 87.4930724780944\n",
       "\\item 86.8853983706952\n",
       "\\item 82.7209270963236\n",
       "\\item 77.061411143267\n",
       "\\item 88.9565574060461\n",
       "\\item 81.0232378424944\n",
       "\\item 80.2774850630797\n",
       "\\item 94.9407376624335\n",
       "\\item 81.7831187685371\n",
       "\\item 58.0256239891511\n",
       "\\item 88.2625425977446\n",
       "\\item 46.7428633326278\n",
       "\\item 70.8782437893963\n",
       "\\item 80.0230503688838\n",
       "\\item 91.0488984951116\n",
       "\\item 83.6053236880084\n",
       "\\item 92.3300011975827\n",
       "\\item 86.6230905797408\n",
       "\\item 88.2989920475738\n",
       "\\item 82.305617383241\n",
       "\\item 93.6725941397575\n",
       "\\item 83.153961571861\n",
       "\\item 81.4599704738351\n",
       "\\item 76.916516332692\n",
       "\\item 89.7770314219226\n",
       "\\item 100.978854591647\n",
       "\\item 71.6572950867396\n",
       "\\item 85.801475140568\n",
       "\\item 72.5576776692042\n",
       "\\item 71.0833390498401\n",
       "\\end{enumerate*}\n"
      ],
      "text/markdown": [
       "1. 45.7444245215814\n",
       "2. 65.8206480560102\n",
       "3. 53.664658917995\n",
       "4. 57.2939477795836\n",
       "5. 57.7055941774198\n",
       "6. 50.9040073303983\n",
       "7. 69.4145284274683\n",
       "8. 60.3062008732038\n",
       "9. 39.7845129560534\n",
       "10. 69.4168794008115\n",
       "11. 50.8735947323614\n",
       "12. 64.0204038523285\n",
       "13. 63.4802305429779\n",
       "14. 50.3860635490577\n",
       "15. 51.5671547302645\n",
       "16. 55.3986890015523\n",
       "17. 71.6973889980595\n",
       "18. 56.2181113780026\n",
       "19. 58.6688069691114\n",
       "20. 57.8010009067359\n",
       "21. 59.9361108732109\n",
       "22. 54.3655292334563\n",
       "23. 63.8224239909234\n",
       "24. 57.6893936380197\n",
       "25. 58.633681023404\n",
       "26. 73.5010798167322\n",
       "27. 48.8015805688232\n",
       "28. 57.864028345872\n",
       "29. 50.9281762409724\n",
       "30. 49.356774993826\n",
       "31. 87.4930724780944\n",
       "32. 86.8853983706952\n",
       "33. 82.7209270963236\n",
       "34. 77.061411143267\n",
       "35. 88.9565574060461\n",
       "36. 81.0232378424944\n",
       "37. 80.2774850630797\n",
       "38. 94.9407376624335\n",
       "39. 81.7831187685371\n",
       "40. 58.0256239891511\n",
       "41. 88.2625425977446\n",
       "42. 46.7428633326278\n",
       "43. 70.8782437893963\n",
       "44. 80.0230503688838\n",
       "45. 91.0488984951116\n",
       "46. 83.6053236880084\n",
       "47. 92.3300011975827\n",
       "48. 86.6230905797408\n",
       "49. 88.2989920475738\n",
       "50. 82.305617383241\n",
       "51. 93.6725941397575\n",
       "52. 83.153961571861\n",
       "53. 81.4599704738351\n",
       "54. 76.916516332692\n",
       "55. 89.7770314219226\n",
       "56. 100.978854591647\n",
       "57. 71.6572950867396\n",
       "58. 85.801475140568\n",
       "59. 72.5576776692042\n",
       "60. 71.0833390498401\n",
       "\n",
       "\n"
      ],
      "text/plain": [
       " [1]  45.74442  65.82065  53.66466  57.29395  57.70559  50.90401  69.41453\n",
       " [8]  60.30620  39.78451  69.41688  50.87359  64.02040  63.48023  50.38606\n",
       "[15]  51.56715  55.39869  71.69739  56.21811  58.66881  57.80100  59.93611\n",
       "[22]  54.36553  63.82242  57.68939  58.63368  73.50108  48.80158  57.86403\n",
       "[29]  50.92818  49.35677  87.49307  86.88540  82.72093  77.06141  88.95656\n",
       "[36]  81.02324  80.27749  94.94074  81.78312  58.02562  88.26254  46.74286\n",
       "[43]  70.87824  80.02305  91.04890  83.60532  92.33000  86.62309  88.29899\n",
       "[50]  82.30562  93.67259  83.15396  81.45997  76.91652  89.77703 100.97885\n",
       "[57]  71.65730  85.80148  72.55768  71.08334"
      ]
     },
     "metadata": {},
     "output_type": "display_data"
    }
   ],
   "source": [
    "DeerStudy$Weight"
   ]
  },
  {
   "cell_type": "markdown",
   "id": "fdc5873a-36a7-4862-9640-213902b19a78",
   "metadata": {},
   "source": [
    "We can also save our spreadsheet."
   ]
  },
  {
   "cell_type": "code",
   "execution_count": 30,
   "id": "7f598794-26c4-4f25-a274-049e1b5e5838",
   "metadata": {},
   "outputs": [],
   "source": [
    "save(DeerStudy, file = \"DeerStudy.RData\")"
   ]
  },
  {
   "cell_type": "markdown",
   "id": "372cb28c-dcc1-470f-af05-d0cc651d1b5e",
   "metadata": {},
   "source": [
    "# Part 3 - Basic plotting"
   ]
  },
  {
   "cell_type": "markdown",
   "id": "183f8f30-0e1f-45de-9999-f9b31e06b85a",
   "metadata": {},
   "source": [
    "Plotting is very important. It allows you to see relationships between variables. There are different kinds of plots that are useful for different kinds of relationships."
   ]
  },
  {
   "cell_type": "markdown",
   "id": "a17a5ec9-1a42-4ba2-bc41-15632b56468f",
   "metadata": {},
   "source": [
    "If you want to plot something very quickly, base R (when you don't download any extra packages) has some great options."
   ]
  },
  {
   "cell_type": "markdown",
   "id": "4e3d1012-0552-4e5a-9ad6-668825b31d60",
   "metadata": {},
   "source": [
    "To visualize the relationship between two continuous variables, you can use a scatterplot..."
   ]
  },
  {
   "cell_type": "code",
   "execution_count": 42,
   "id": "6d67b8a1-6a17-4e49-854e-a063fcf50a6f",
   "metadata": {},
   "outputs": [
    {
     "data": {
      "image/png": "[encoded data removed]",
      "text/plain": [
       "plot without title"
      ]
     },
     "metadata": {
      "image/png": {
       "height": 420,
       "width": 420
      }
     },
     "output_type": "display_data"
    }
   ],
   "source": [
    "plot(a, c)"
   ]
  },
  {
   "cell_type": "code",
   "execution_count": 44,
   "id": "40ad0a16-c32f-4e96-b971-40cc6fb17f16",
   "metadata": {},
   "outputs": [
    {
     "data": {
      "image/png": "[encoded data removed]",
      "text/plain": [
       "plot without title"
      ]
     },
     "metadata": {
      "image/png": {
       "height": 420,
       "width": 420
      }
     },
     "output_type": "display_data"
    }
   ],
   "source": [
    "plot(c ~ a)"
   ]
  },
  {
   "cell_type": "markdown",
   "id": "2f4bd725-a55b-4052-bcbe-09e8c8e6b49b",
   "metadata": {},
   "source": [
    "... while boxplots tell you the relationship between categorical and continuous variables."
   ]
  },
  {
   "cell_type": "code",
   "execution_count": 64,
   "id": "544e77c0-1f05-4b15-9a01-97b2bfb32bd9",
   "metadata": {},
   "outputs": [
    {
     "data": {
      "image/png": "[encoded data removed]",
      "text/plain": [
       "plot without title"
      ]
     },
     "metadata": {
      "image/png": {
       "height": 420,
       "width": 420
      }
     },
     "output_type": "display_data"
    }
   ],
   "source": [
    "boxplot(Weight ~ Species, col = \"lightblue\")"
   ]
  },
  {
   "cell_type": "markdown",
   "id": "8a26b67a-2d29-4b1e-a4f7-a09c4fc99c95",
   "metadata": {},
   "source": [
    "The tilde \"~\" is important in R. It can be read to mean \"as a function of\", or \"distributed as\". You will see it again, and you will get used to it. This little syntactic difference is important, because it can allow us to make the same plot using different kinds of data structures. "
   ]
  },
  {
   "cell_type": "markdown",
   "id": "b69a4905-15de-4f77-8805-a12905fb2b9a",
   "metadata": {},
   "source": [
    "These plots are a bit ugly. Even base R can make beautiful plots, you can look at options to fancy plots up using the ?plot command."
   ]
  },
  {
   "cell_type": "markdown",
   "id": "45533359-55d9-494b-967b-d555b3ad2206",
   "metadata": {},
   "source": [
    "A lot of the R community uses a package called ggplot2 to plot. It is very well-documented online and has a lot of options for customization. Packages are like modules in Python. We'll talk a bit more about packages next class. For now, let's just install and load:"
   ]
  },
  {
   "cell_type": "code",
   "execution_count": 54,
   "id": "aabd77ff-acd8-409a-980d-67b97ef71e7d",
   "metadata": {
    "scrolled": true
   },
   "outputs": [
    {
     "name": "stderr",
     "output_type": "stream",
     "text": [
      "Installing package into ‘/usr/local/spark-3.5.2-bin-hadoop3/R/lib’\n",
      "(as ‘lib’ is unspecified)\n",
      "\n",
      "Installing package into ‘/usr/local/spark-3.5.2-bin-hadoop3/R/lib’\n",
      "(as ‘lib’ is unspecified)\n",
      "\n"
     ]
    }
   ],
   "source": [
    "install.packages(\"ggplot2\")\n",
    "install.packages(\"dplyr\")"
   ]
  },
  {
   "cell_type": "code",
   "execution_count": 55,
   "id": "f75d56cf-57b3-4789-b072-11a88be731f0",
   "metadata": {},
   "outputs": [
    {
     "name": "stderr",
     "output_type": "stream",
     "text": [
      "\n",
      "Attaching package: ‘dplyr’\n",
      "\n",
      "\n",
      "The following objects are masked from ‘package:stats’:\n",
      "\n",
      "    filter, lag\n",
      "\n",
      "\n",
      "The following objects are masked from ‘package:base’:\n",
      "\n",
      "    intersect, setdiff, setequal, union\n",
      "\n",
      "\n"
     ]
    }
   ],
   "source": [
    "library(ggplot2)\n",
    "library(dplyr)"
   ]
  },
  {
   "cell_type": "code",
   "execution_count": 65,
   "id": "a3a9cf28-9973-42ef-bfd7-a0c82dacb1e3",
   "metadata": {},
   "outputs": [
    {
     "data": {
      "image/png": "[encoded data removed]",
      "text/plain": [
       "plot without title"
      ]
     },
     "metadata": {
      "image/png": {
       "height": 420,
       "width": 420
      }
     },
     "output_type": "display_data"
    }
   ],
   "source": [
    "ggplot(DeerStudy, aes(x = Species, y = Weight, fill = Species)) +\n",
    "geom_boxplot()"
   ]
  },
  {
   "cell_type": "markdown",
   "id": "8d84d33e-8796-44de-96b1-4b752be7fc62",
   "metadata": {},
   "source": [
    "ggplot2 is a very modular way of plotting. You give commands in a sequential order, and the output of one command is passed to the command with a '+' operator."
   ]
  },
  {
   "cell_type": "markdown",
   "id": "910c3e21-f8d0-43aa-98aa-61c7882eef3c",
   "metadata": {},
   "source": [
    "The first block (before the + sign) specifies the data we want to use and how we want to use it. Using + signs, we can add extra options, for example the style of plot. You can really go crazy with the customizations!"
   ]
  },
  {
   "cell_type": "code",
   "execution_count": 70,
   "id": "316dd5c9-f806-4a97-b37e-7445f65b6d30",
   "metadata": {
    "scrolled": true
   },
   "outputs": [
    {
     "data": {
      "image/png": "[encoded data removed]",
      "text/plain": [
       "plot without title"
      ]
     },
     "metadata": {
      "image/png": {
       "height": 420,
       "width": 420
      }
     },
     "output_type": "display_data"
    }
   ],
   "source": [
    "ggplot(DeerStudy, \n",
    "       aes(x = Species, \n",
    "           y = Weight,\n",
    "          fill = Species)) +\n",
    "    geom_boxplot() +\n",
    "    theme_minimal() +\n",
    "    scale_fill_manual(values = c(\"lightblue\", \"lightgreen\")) +\n",
    "    labs(title = \"Deer Weight\", \n",
    "         x = \"Species\",\n",
    "         y = \"Weight (kg)\")"
   ]
  },
  {
   "cell_type": "markdown",
   "id": "9295e5bb-1c71-4831-88f5-75d2166b2a01",
   "metadata": {},
   "source": [
    "There are several excellent resources for learning about ggplot2. Try to play around with them. For example: https://rstudio.github.io/cheatsheets/html/data-visualization.html"
   ]
  },
  {
   "cell_type": "markdown",
   "id": "3da06e77-614e-42da-b9cf-157a7fea72e3",
   "metadata": {},
   "source": [
    "You have encountered some basic plotting functions in R. You have learned the tilde operator. You have learned how to search the help documentation."
   ]
  },
  {
   "cell_type": "markdown",
   "id": "66fb8cb2-317b-4a2a-948d-8e449fc2651b",
   "metadata": {},
   "source": [
    "# Part 4 - Indexing and basic statistics"
   ]
  },
  {
   "cell_type": "markdown",
   "id": "50f48782-ca8d-435f-af20-6f01228c3a50",
   "metadata": {},
   "source": [
    "R is a statistical language, and so it has functions for running statistical operations and models."
   ]
  },
  {
   "cell_type": "markdown",
   "id": "3e477b15-ea0e-4643-8566-17f0a08d0dfc",
   "metadata": {},
   "source": [
    "We can calculate the average a of variable:"
   ]
  },
  {
   "cell_type": "code",
   "execution_count": 73,
   "id": "a6604c10-f68e-47fc-bed9-23bf9517abc6",
   "metadata": {},
   "outputs": [
    {
     "data": {
      "text/html": [
       "69.6901755767386"
      ],
      "text/latex": [
       "69.6901755767386"
      ],
      "text/markdown": [
       "69.6901755767386"
      ],
      "text/plain": [
       "[1] 69.69018"
      ]
     },
     "metadata": {},
     "output_type": "display_data"
    }
   ],
   "source": [
    "mean(Weight)"
   ]
  },
  {
   "cell_type": "markdown",
   "id": "1d89257f-15ce-43ed-8f06-2d3d27661a62",
   "metadata": {},
   "source": [
    "Sometimes we are interested in sorting or carving our data up, and doing stats on a part of it. We can use indexing for this. For example, we might just want the average of each species in our study"
   ]
  },
  {
   "cell_type": "markdown",
   "id": "a56ecdb1-3f3e-466a-ba70-f9c324648a89",
   "metadata": {},
   "source": [
    "Let's look at how to extract weights for either just the Deers or the Reindeers in our study"
   ]
  },
  {
   "cell_type": "code",
   "execution_count": 78,
   "id": "9facde6b-0bcf-4f3f-8c63-21dd37d7b64d",
   "metadata": {},
   "outputs": [
    {
     "data": {
      "text/html": [
       "57.5021875275406"
      ],
      "text/latex": [
       "57.5021875275406"
      ],
      "text/markdown": [
       "57.5021875275406"
      ],
      "text/plain": [
       "[1] 57.50219"
      ]
     },
     "metadata": {},
     "output_type": "display_data"
    },
    {
     "data": {
      "text/html": [
       "81.8781636259367"
      ],
      "text/latex": [
       "81.8781636259367"
      ],
      "text/markdown": [
       "81.8781636259367"
      ],
      "text/plain": [
       "[1] 81.87816"
      ]
     },
     "metadata": {},
     "output_type": "display_data"
    }
   ],
   "source": [
    "mean(Weight[Species==\"Deer\"])\n",
    "mean(Weight[Species==\"Reindeer\"])"
   ]
  },
  {
   "cell_type": "markdown",
   "id": "57b547cd-5282-4214-a1a2-297ad830097f",
   "metadata": {},
   "source": [
    "...so that we can compare the average weight"
   ]
  },
  {
   "cell_type": "code",
   "execution_count": null,
   "id": "9990886d-6ac5-4e29-85de-747d0ad4c3c1",
   "metadata": {},
   "outputs": [],
   "source": [
    "#All of the mean stuff should have been down here heh - was too quick"
   ]
  },
  {
   "cell_type": "code",
   "execution_count": null,
   "id": "6689c4fe-896a-4e30-b11c-6956925256bf",
   "metadata": {},
   "outputs": [],
   "source": []
  },
  {
   "cell_type": "markdown",
   "id": "9f166575-3af4-4bff-9631-9916303268b5",
   "metadata": {},
   "source": [
    "Indexing is incredibly useful. You need to know it. But it is awkward for data frames. We can make a table instead using some basic data manipulation functions. This new table is a new data frame"
   ]
  },
  {
   "cell_type": "code",
   "execution_count": 83,
   "id": "5cf24b76-ad38-4558-b685-1f0abb95f064",
   "metadata": {},
   "outputs": [],
   "source": [
    "meanTable <- DeerStudy %>%\n",
    "    group_by(Species) %>%\n",
    "    summarize(MeanWeight = mean(Weight))"
   ]
  },
  {
   "cell_type": "code",
   "execution_count": 84,
   "id": "91510085-e3e0-4206-8b29-6ebe57db237f",
   "metadata": {},
   "outputs": [
    {
     "data": {
      "text/html": [
       "<table class=\"dataframe\">\n",
       "<caption>A tibble: 2 × 2</caption>\n",
       "<thead>\n",
       "\t<tr><th scope=col>Species</th><th scope=col>MeanWeight</th></tr>\n",
       "\t<tr><th scope=col>&lt;chr&gt;</th><th scope=col>&lt;dbl&gt;</th></tr>\n",
       "</thead>\n",
       "<tbody>\n",
       "\t<tr><td>Deer    </td><td>57.50219</td></tr>\n",
       "\t<tr><td>Reindeer</td><td>81.87816</td></tr>\n",
       "</tbody>\n",
       "</table>\n"
      ],
      "text/latex": [
       "A tibble: 2 × 2\n",
       "\\begin{tabular}{ll}\n",
       " Species & MeanWeight\\\\\n",
       " <chr> & <dbl>\\\\\n",
       "\\hline\n",
       "\t Deer     & 57.50219\\\\\n",
       "\t Reindeer & 81.87816\\\\\n",
       "\\end{tabular}\n"
      ],
      "text/markdown": [
       "\n",
       "A tibble: 2 × 2\n",
       "\n",
       "| Species &lt;chr&gt; | MeanWeight &lt;dbl&gt; |\n",
       "|---|---|\n",
       "| Deer     | 57.50219 |\n",
       "| Reindeer | 81.87816 |\n",
       "\n"
      ],
      "text/plain": [
       "  Species  MeanWeight\n",
       "1 Deer     57.50219  \n",
       "2 Reindeer 81.87816  "
      ]
     },
     "metadata": {},
     "output_type": "display_data"
    }
   ],
   "source": [
    "meanTable"
   ]
  },
  {
   "cell_type": "markdown",
   "id": "f31aed63-90b9-497f-8baf-e034626dff8c",
   "metadata": {},
   "source": [
    "This is the exact same logic as with the plotting. First you define the data you are working on, then you sequentially operate on it. This is called \"piping\"."
   ]
  },
  {
   "cell_type": "markdown",
   "id": "cd8557f1-fb50-4db7-a6cc-834c89d809dd",
   "metadata": {},
   "source": [
    "The mean is only one statistic. We can also look at other statistics. How about the median?"
   ]
  },
  {
   "cell_type": "code",
   "execution_count": 85,
   "id": "7184cb98-8833-4e9b-945d-73c6276a1e16",
   "metadata": {},
   "outputs": [],
   "source": [
    "medianTable <- DeerStudy %>%\n",
    "    group_by(Species) %>%\n",
    "    summarize(MedianWeight = median(Weight))"
   ]
  },
  {
   "cell_type": "code",
   "execution_count": 86,
   "id": "edbc44e9-6df0-4ebe-8e99-f7afa84b17ea",
   "metadata": {},
   "outputs": [
    {
     "data": {
      "text/html": [
       "<table class=\"dataframe\">\n",
       "<caption>A tibble: 2 × 2</caption>\n",
       "<thead>\n",
       "\t<tr><th scope=col>Species</th><th scope=col>MedianWeight</th></tr>\n",
       "\t<tr><th scope=col>&lt;chr&gt;</th><th scope=col>&lt;dbl&gt;</th></tr>\n",
       "</thead>\n",
       "<tbody>\n",
       "\t<tr><td>Deer    </td><td>57.69749</td></tr>\n",
       "\t<tr><td>Reindeer</td><td>82.93744</td></tr>\n",
       "</tbody>\n",
       "</table>\n"
      ],
      "text/latex": [
       "A tibble: 2 × 2\n",
       "\\begin{tabular}{ll}\n",
       " Species & MedianWeight\\\\\n",
       " <chr> & <dbl>\\\\\n",
       "\\hline\n",
       "\t Deer     & 57.69749\\\\\n",
       "\t Reindeer & 82.93744\\\\\n",
       "\\end{tabular}\n"
      ],
      "text/markdown": [
       "\n",
       "A tibble: 2 × 2\n",
       "\n",
       "| Species &lt;chr&gt; | MedianWeight &lt;dbl&gt; |\n",
       "|---|---|\n",
       "| Deer     | 57.69749 |\n",
       "| Reindeer | 82.93744 |\n",
       "\n"
      ],
      "text/plain": [
       "  Species  MedianWeight\n",
       "1 Deer     57.69749    \n",
       "2 Reindeer 82.93744    "
      ]
     },
     "metadata": {},
     "output_type": "display_data"
    }
   ],
   "source": [
    "medianTable"
   ]
  },
  {
   "cell_type": "markdown",
   "id": "d83c236f-8520-4227-aa14-459142bd1c0a",
   "metadata": {},
   "source": [
    "We can also look at the standard deviation."
   ]
  },
  {
   "cell_type": "code",
   "execution_count": 89,
   "id": "a56f9cc9-7436-4384-8568-5d171d4b3efb",
   "metadata": {},
   "outputs": [],
   "source": [
    "sdTable <- DeerStudy %>%\n",
    "    group_by(Species) %>%\n",
    "    summarize(sdWeight = sd(Weight))"
   ]
  },
  {
   "cell_type": "code",
   "execution_count": 90,
   "id": "36645a7d-b6fc-41e8-bacc-3e748ab937e0",
   "metadata": {},
   "outputs": [
    {
     "data": {
      "text/html": [
       "<table class=\"dataframe\">\n",
       "<caption>A tibble: 2 × 2</caption>\n",
       "<thead>\n",
       "\t<tr><th scope=col>Species</th><th scope=col>sdWeight</th></tr>\n",
       "\t<tr><th scope=col>&lt;chr&gt;</th><th scope=col>&lt;dbl&gt;</th></tr>\n",
       "</thead>\n",
       "<tbody>\n",
       "\t<tr><td>Deer    </td><td> 7.849599</td></tr>\n",
       "\t<tr><td>Reindeer</td><td>10.906257</td></tr>\n",
       "</tbody>\n",
       "</table>\n"
      ],
      "text/latex": [
       "A tibble: 2 × 2\n",
       "\\begin{tabular}{ll}\n",
       " Species & sdWeight\\\\\n",
       " <chr> & <dbl>\\\\\n",
       "\\hline\n",
       "\t Deer     &  7.849599\\\\\n",
       "\t Reindeer & 10.906257\\\\\n",
       "\\end{tabular}\n"
      ],
      "text/markdown": [
       "\n",
       "A tibble: 2 × 2\n",
       "\n",
       "| Species &lt;chr&gt; | sdWeight &lt;dbl&gt; |\n",
       "|---|---|\n",
       "| Deer     |  7.849599 |\n",
       "| Reindeer | 10.906257 |\n",
       "\n"
      ],
      "text/plain": [
       "  Species  sdWeight \n",
       "1 Deer      7.849599\n",
       "2 Reindeer 10.906257"
      ]
     },
     "metadata": {},
     "output_type": "display_data"
    }
   ],
   "source": [
    "sdTable"
   ]
  },
  {
   "cell_type": "markdown",
   "id": "7d9851c2-683b-4162-8228-8ca6df4e8645",
   "metadata": {},
   "source": [
    "Now we are almost ready to do some statistics. We will cover statistical concepts in the next lecture. BUt as a teaser, let's look at a quick comparison, and see if these means are really different."
   ]
  },
  {
   "cell_type": "code",
   "execution_count": 92,
   "id": "34100bd1-d979-4fd9-a31b-c552ab8cd97c",
   "metadata": {},
   "outputs": [
    {
     "data": {
      "text/plain": [
       "\n",
       "\tWelch Two Sample t-test\n",
       "\n",
       "data:  weight1 and weight2\n",
       "t = -9.9359, df = 52.688, p-value = 1.123e-13\n",
       "alternative hypothesis: true difference in means is not equal to 0\n",
       "95 percent confidence interval:\n",
       " -29.29738 -19.45457\n",
       "sample estimates:\n",
       "mean of x mean of y \n",
       " 57.50219  81.87816 \n"
      ]
     },
     "metadata": {},
     "output_type": "display_data"
    }
   ],
   "source": [
    "t.test(weight1, weight2) #The p-value is smaller than 0.05, so the data is significantly different"
   ]
  },
  {
   "cell_type": "markdown",
   "id": "504a0793-73b2-481f-95ec-1f32b062a737",
   "metadata": {},
   "source": [
    "You have learned about indexing. You have learned about basic statistical functions. You have learned how to generate summary tables. You have run your first statistical simulation, and your first hypothesis test."
   ]
  }
 ],
 "metadata": {
  "kernelspec": {
   "display_name": "R",
   "language": "R",
   "name": "ir"
  },
  "language_info": {
   "codemirror_mode": "r",
   "file_extension": ".r",
   "mimetype": "text/x-r-source",
   "name": "R",
   "pygments_lexer": "r",
   "version": "4.4.1"
  }
 },
 "nbformat": 4,
 "nbformat_minor": 5
}
